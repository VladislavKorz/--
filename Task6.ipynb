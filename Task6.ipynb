{
  "cells": [
    {
      "cell_type": "markdown",
      "metadata": {
        "id": "6iYZR9ZqKwE3"
      },
      "source": [
        "### Google Colab"
      ]
    },
    {
      "cell_type": "markdown",
      "metadata": {
        "id": "J8M04Be2KwE5"
      },
      "source": [
        "Colaboratory, или сокращенно Colab - это продукт компании Google Research. \n",
        "Colab позволяет любому человеку писать и выполнять произвольный код на языке python через браузер и особенно хорошо подходит для машинного обучения, анализа данных и образования. \n",
        "С технической точки зрения, Colab — это размещенный сервис Jupyter notebook, который не требует настройки для использования, но при этом предоставляет бесплатный доступ к вычислительным ресурсам, включая GPU. \n",
        "Colab можно использовать бесплатно. Ресурсы Colab не гарантированы и не безграничны, а лимиты использования иногда колеблются. Это необходимо для того, чтобы Colab мог предоставлять ресурсы бесплатно.\n"
      ]
    },
    {
      "cell_type": "markdown",
      "metadata": {
        "id": "tRz-0Ma4KwE6"
      },
      "source": [
        "Блокноты Colab хранятся в Google Drive или могут быть загружены из GitHub. Блокнотами Colab можно делиться так же, как и документами Google Docs или Sheets. Просто нажмите кнопку \"Поделиться\" в правом верхнем углу любого блокнота Colab. Или можно скачать в формате .ipynb или .py"
      ]
    },
    {
      "cell_type": "markdown",
      "metadata": {
        "id": "w3Fd9mzhKwE6"
      },
      "source": [
        "Виртуальная машина, которую вы используете, включая любые пользовательские файлы и библиотеки, которые вы установили, не будет использоваться совместно. Поэтому хорошей идеей будет включить код для установки и загрузки любых пользовательских библиотек или файлов, которые нужны вашему ноутбуку."
      ]
    },
    {
      "cell_type": "markdown",
      "metadata": {
        "id": "eaGKXMGiKwE7"
      },
      "source": [
        "Код выполняется на виртуальной машине, являющейся частной для вашего аккаунта. Виртуальные машины удаляются после некоторого простоя и имеют максимальное время жизни, установленное службой Colab."
      ]
    },
    {
      "cell_type": "markdown",
      "metadata": {
        "id": "MkYqCPCxKwE7"
      },
      "source": [
        "В бесплатной версии Colab ноутбуки могут работать не более 12 часов, в зависимости от доступности и режима использования."
      ]
    },
    {
      "cell_type": "markdown",
      "metadata": {
        "id": "e_9DFlPDKwE8"
      },
      "source": [
        "https://colab.research.google.com/notebooks/markdown_guide.ipynb Руководство по разметке текста"
      ]
    },
    {
      "cell_type": "markdown",
      "metadata": {
        "id": "jWUQZ7olS4Ts"
      },
      "source": [
        "## Задания"
      ]
    },
    {
      "cell_type": "markdown",
      "metadata": {
        "id": "d97xcXfZTIea"
      },
      "source": [
        "**Задача 1.**\n",
        "\n",
        "Даны четыре действительных числа: x1, y1, x2, y2. Напишите функцию distance(x1, y1, x2, y2), вычисляющая евклидово расстояние ( https://ru.wikipedia.org/wiki/%D0%95%D0%B2%D0%BA%D0%BB%D0%B8%D0%B4%D0%BE%D0%B2%D0%B0_%D0%BC%D0%B5%D1%82%D1%80%D0%B8%D0%BA%D0%B0 ) между точкой (x1,y1) и (x2,y2)."
      ]
    },
    {
      "cell_type": "code",
      "execution_count": 1,
      "metadata": {
        "id": "FwoN8YrfS8S9"
      },
      "outputs": [
        {
          "name": "stdout",
          "output_type": "stream",
          "text": [
            "2.8284271247461903\n"
          ]
        }
      ],
      "source": [
        "from math import sqrt, pow\n",
        "x1 = int(input(\"Введите число x1:\"))\n",
        "x2 = int(input(\"Введите число x2:\"))\n",
        "y1 = int(input(\"Введите число y1:\"))\n",
        "y2 = int(input(\"Введите число y2:\"))\n",
        "print(sqrt(pow(x1-y1,2)+pow(x2-y2,2)))"
      ]
    },
    {
      "cell_type": "markdown",
      "metadata": {
        "id": "04v60qczU_fi"
      },
      "source": [
        "**Задача 2.**\n",
        "\n",
        "Написать функцию season(month), принимающую 1 аргумент — номер месяца (от 1 до 12), которая присваивает глобальной переменной s время года, которому этот месяц принадлежит (зима, весна, лето или осень)."
      ]
    },
    {
      "cell_type": "code",
      "execution_count": 2,
      "metadata": {
        "id": "j56j5EvKWsy1"
      },
      "outputs": [
        {
          "name": "stdout",
          "output_type": "stream",
          "text": [
            "Вы ввели не существуещий номер месяца\n",
            "Вы ввели не существуещий номер месяца\n",
            "Вы ввели не существуещий номер месяца\n",
            "Весна\n"
          ]
        }
      ],
      "source": [
        "def season(moth):\n",
        "    global s\n",
        "    if moth == 12 or 1 <= moth <= 2:\n",
        "        s = 'Зима'\n",
        "    if 3 <= moth <= 5:\n",
        "        s = 'Весна'\n",
        "    if 6 <= moth <= 8:\n",
        "        s = 'Лето'\n",
        "    if 9 <= moth <= 11:\n",
        "        s = 'Осень'\n",
        "    return s\n",
        "\n",
        "num = int(input(\"Введите номер месяца: \"))\n",
        "k = True\n",
        "while k:\n",
        "    if num > 12 or num < 1:\n",
        "        print(\"Вы ввели не существуещий номер месяца\")\n",
        "        num = int(input(\"Введите номер месяца: \"))\n",
        "    else:\n",
        "        k = False \n",
        "season(num)\n",
        "print(s)"
      ]
    },
    {
      "cell_type": "markdown",
      "metadata": {
        "id": "Xo4YtE9XWwJ-"
      },
      "source": [
        "**Задача 3.**\n",
        "\n",
        "Написать функцию is_prime, принимающую 1 аргумент — число от 0 до 1000, и возвращающую True, если оно простое, и False - иначе."
      ]
    },
    {
      "cell_type": "code",
      "execution_count": 3,
      "metadata": {
        "id": "JaI9rY6cW0YA"
      },
      "outputs": [
        {
          "name": "stdout",
          "output_type": "stream",
          "text": [
            "True\n"
          ]
        }
      ],
      "source": [
        "def is_prime(num1):\n",
        "    if num1%2 == 0 and num1 != 2 or num1%3 == 0 and num1 != 3 or num1%5 == 0 and num1 != 5:\n",
        "        s = False\n",
        "    else:\n",
        "        s = True\n",
        "    return s\n",
        "\n",
        "num = int(input(\"Введите число(от 0 до 1000): \"))\n",
        "k = True\n",
        "while k:\n",
        "    if num > 1000 or num < 0:\n",
        "        print(\"Вы ввели не правильный диапозон\")\n",
        "        num = int(input(\"Введите номер месяца: \"))\n",
        "    else:\n",
        "        k = False \n",
        "print(is_prime(num))"
      ]
    },
    {
      "cell_type": "markdown",
      "metadata": {
        "id": "siBlTugkX5Il"
      },
      "source": [
        "**Задача 4.**\n",
        "\n",
        "Написать функцию reverse_list(lst), которая принимает в качестве аргумента список и возвращаем его в перевернутом виде.\n",
        "\n",
        "Например,\n",
        "- исходный список:  8, 1, 0, 4\n",
        "- полученный список: 4, 0, 1, 8\n",
        "\n",
        "Использовать встроенные функции Python нельзя. "
      ]
    },
    {
      "cell_type": "code",
      "execution_count": 10,
      "metadata": {
        "id": "6YqPaxokYT1_"
      },
      "outputs": [
        {
          "name": "stdout",
          "output_type": "stream",
          "text": [
            "[5, 7, 0, 3, 8, 4, 4, 6, 9, 4]\n",
            "[4, 9, 6, 4, 4, 8, 3, 0, 7, 5]\n"
          ]
        }
      ],
      "source": [
        "import random\n",
        "b = []\n",
        "for item in range(10):\n",
        "    b.append(random.randint(0,10))\n",
        "print(b)\n",
        "b = b[::-1]\n",
        "print(b)"
      ]
    },
    {
      "cell_type": "markdown",
      "metadata": {
        "id": "4UUcGbHWr3wn"
      },
      "source": [
        "**Задача 5.**\n",
        "\n",
        "Распечатайте с 4 по 8 символ фразы \"Привет мир!\" приведенные к верхнему регистру."
      ]
    },
    {
      "cell_type": "code",
      "execution_count": 11,
      "metadata": {
        "id": "ICMD_GzvsETR"
      },
      "outputs": [
        {
          "name": "stdout",
          "output_type": "stream",
          "text": [
            "ивет \n"
          ]
        }
      ],
      "source": [
        "x = '\"Привет мир!\"'\n",
        "print(x[3:8])"
      ]
    },
    {
      "cell_type": "markdown",
      "metadata": {
        "id": "Ei25f1pVsQLt"
      },
      "source": [
        "**Задача 6.**\n",
        "\n",
        "Напишите код, который все элементы массива x с нечетными индексами переставит в обратном порядке.\n",
        "\n",
        "Т.е. если x = [0, 1, 2, 3, 4, 5, 6, 7, 8, 9], то код должен получать [0, 9, 2, 7, 4, 5, 6, 3, 8, 1]"
      ]
    },
    {
      "cell_type": "code",
      "execution_count": 5,
      "metadata": {
        "id": "o93nN1cJsXNy"
      },
      "outputs": [],
      "source": [
        "l = [0, 1, 2, 3, 4, 5, 6, 7, 8, 9]\n",
        " \n",
        "for i in range(1, int(len(l)/2), 2):\n",
        "    if not len(l) % 2:\n",
        "        l[i], l[-i] = l[-i], l[i]\n",
        "    else:\n",
        "        l[i], l[-i-1] = l[-i-1], l[i]"
      ]
    },
    {
      "cell_type": "markdown",
      "metadata": {
        "id": "-qcaQystsXYY"
      },
      "source": [
        "**Задача 7.**\n",
        "\n",
        "Напишите цикл, который выводит все числа от 0 до 500, делящиеся на 7, если в них есть цифра 8."
      ]
    },
    {
      "cell_type": "code",
      "execution_count": 4,
      "metadata": {
        "id": "5-d0zkldsuvr"
      },
      "outputs": [
        {
          "name": "stdout",
          "output_type": "stream",
          "text": [
            "28 84 98 168 182 189 238 280 287 308 378 385 448 483 "
          ]
        }
      ],
      "source": [
        "i =0\n",
        "for i in range(500):\n",
        "    if i % 7 == 0 and \"8\" in str(i):\n",
        "        print(i, end=\" \")\n",
        "        i+=1"
      ]
    },
    {
      "cell_type": "markdown",
      "metadata": {
        "id": "CTWMY6f9su7P"
      },
      "source": [
        "**Задача 8.**\n",
        "\n",
        "На вход функция more_than_five(lst) получает список из целых чисел. \n",
        "Результатом работы функции должен стать новый список, в котором содержатся только те числа, которые больше 10 по модулю."
      ]
    },
    {
      "cell_type": "code",
      "execution_count": 16,
      "metadata": {
        "id": "ChE1X9wvtMzQ"
      },
      "outputs": [
        {
          "name": "stdout",
          "output_type": "stream",
          "text": [
            "[4, 6, 1, 17, 18, 2, 11, 2, 12, 2]\n",
            "[17, 18, 11, 12]\n"
          ]
        }
      ],
      "source": [
        "def more_than_five(lst):\n",
        "    new_lst = []\n",
        "    for number in lst:\n",
        "        if abs(number) > 10:\n",
        "            new_lst.append(number)\n",
        "    return new_lst\n",
        "\n",
        "ll = [random.randint(0,20) for item in range(10)]\n",
        "print(ll)\n",
        "print(more_than_five(ll))\n"
      ]
    },
    {
      "cell_type": "markdown",
      "metadata": {
        "id": "vTu7Ibz2CesK"
      },
      "source": [
        "# Задания"
      ]
    },
    {
      "cell_type": "markdown",
      "metadata": {
        "id": "EobX-nHRDeT5"
      },
      "source": [
        "**Задача 1.**\n",
        "\n",
        "Создать матрицу размером `10х10` с 0 внутри, и 1 на границах. Например для `3х3`.\n",
        "\n",
        "```\n",
        "1 1 1\n",
        "1 0 1\n",
        "1 1 1\n",
        "```"
      ]
    },
    {
      "cell_type": "code",
      "execution_count": 21,
      "metadata": {
        "id": "MGvbhlGHCiJR"
      },
      "outputs": [
        {
          "name": "stdout",
          "output_type": "stream",
          "text": [
            "[[1. 1. 1. 1. 1. 1. 1. 1. 1. 1.]\n",
            " [1. 0. 0. 0. 0. 0. 0. 0. 0. 1.]\n",
            " [1. 0. 0. 0. 0. 0. 0. 0. 0. 1.]\n",
            " [1. 0. 0. 0. 0. 0. 0. 0. 0. 1.]\n",
            " [1. 0. 0. 0. 0. 0. 0. 0. 0. 1.]\n",
            " [1. 0. 0. 0. 0. 0. 0. 0. 0. 1.]\n",
            " [1. 0. 0. 0. 0. 0. 0. 0. 0. 1.]\n",
            " [1. 0. 0. 0. 0. 0. 0. 0. 0. 1.]\n",
            " [1. 0. 0. 0. 0. 0. 0. 0. 0. 1.]\n",
            " [1. 1. 1. 1. 1. 1. 1. 1. 1. 1.]]\n"
          ]
        }
      ],
      "source": [
        "\n",
        "import numpy as np\n",
        "Z = np.ones((10,10))\n",
        "Z[1:-1,1:-1] = 0\n",
        "print(Z)"
      ]
    },
    {
      "cell_type": "markdown",
      "metadata": {
        "id": "vnY0gsMOD45W"
      },
      "source": [
        "**Задача 2.**\n",
        "\n",
        "Создать 5x5 матрицу с 1,2,3,4 над диагональю. Все остальные элементы - 0."
      ]
    },
    {
      "cell_type": "code",
      "execution_count": 22,
      "metadata": {
        "id": "tnKHSJApEY4w"
      },
      "outputs": [
        {
          "name": "stdout",
          "output_type": "stream",
          "text": [
            "[[0 1 0 0 0]\n",
            " [0 0 2 0 0]\n",
            " [0 0 0 3 0]\n",
            " [0 0 0 0 4]\n",
            " [0 0 0 0 0]]\n"
          ]
        }
      ],
      "source": [
        "Z = np.diag(np.arange(1, 5), k=1)\n",
        "print(Z)"
      ]
    },
    {
      "cell_type": "markdown",
      "metadata": {
        "id": "7R26cYEXEsWb"
      },
      "source": [
        "**Задача 3.**\n",
        "\n",
        "Создайте случайную матрицу и вычтите из каждой строки среднее."
      ]
    },
    {
      "cell_type": "code",
      "execution_count": 23,
      "metadata": {
        "id": "eNDIKZPrUbZG"
      },
      "outputs": [
        {
          "name": "stdout",
          "output_type": "stream",
          "text": [
            "[[0.4295158  0.92336494 0.47347721]\n",
            " [0.51258758 0.62613866 0.79103009]\n",
            " [0.55811035 0.82289213 0.25075383]]\n"
          ]
        }
      ],
      "source": [
        "n = 2\n",
        "a = np.random.random((3,3,3))\n",
        "print(np.mean(a[:, :n], axis=1))"
      ]
    },
    {
      "cell_type": "markdown",
      "metadata": {
        "id": "CzAqzs7ClCSn"
      },
      "source": [
        "**Задача 4.**\n",
        "\n",
        "Написать функцию, принимающую на вход массив и меняющую знак у элементов, значения которых между 3 и 8. Протестировать на нескольких заданных вами массивах."
      ]
    },
    {
      "cell_type": "code",
      "execution_count": 27,
      "metadata": {
        "id": "63Ki9lyulzec"
      },
      "outputs": [
        {
          "name": "stdout",
          "output_type": "stream",
          "text": [
            "[ 0  1  2  3 -4 -5 -6 -7 -8  9 10]\n"
          ]
        }
      ],
      "source": [
        "def func_1():\n",
        "    Z = np.arange(11)\n",
        "    Z[(3 < Z) & (Z <= 8)] *= -1\n",
        "    print(Z)\n",
        "\n",
        "func_1()\n",
        "\n"
      ]
    },
    {
      "cell_type": "markdown",
      "metadata": {
        "id": "ha_XRvz7l9rx"
      },
      "source": [
        "**Задача 4.**\n",
        "\n",
        "Написать функцию, принимающую на вход массив и вычитающую среднее из каждой строки в матрице. Протестировать на нескольких заданных вами примерах."
      ]
    },
    {
      "cell_type": "code",
      "execution_count": null,
      "metadata": {
        "id": "9nkzwep7mB5h"
      },
      "outputs": [],
      "source": []
    },
    {
      "cell_type": "markdown",
      "metadata": {
        "id": "MJJ33mtstr-a"
      },
      "source": [
        "**Задача 5.**\n",
        "\n",
        "Дан вектор [1, 2, 3, 4, 5], построить новый вектор с тремя нулями между каждым значением."
      ]
    },
    {
      "cell_type": "code",
      "execution_count": 28,
      "metadata": {
        "id": "UZLtKFY80D6f"
      },
      "outputs": [
        {
          "name": "stdout",
          "output_type": "stream",
          "text": [
            "[1. 0. 0. 0. 2. 0. 0. 0. 3. 0. 0. 0. 4. 0. 0. 0. 5.]\n"
          ]
        }
      ],
      "source": [
        "import numpy as np\n",
        "Z = np.array([1,2,3,4,5])\n",
        "nz = 3\n",
        "Z0 = np.zeros(len(Z) + (len(Z)-1)*(nz))\n",
        "Z0[::nz+1] = Z\n",
        "print(Z0)"
      ]
    },
    {
      "cell_type": "markdown",
      "metadata": {
        "id": "KU7g7UVs0EDr"
      },
      "source": [
        "**Задача 6.**\n",
        "\n",
        "\n",
        "Написать функцию, принимающую на вход матрицу MxN и меняющую 2 любые строки в матрице. Протестировать на нескольких заданных вами примерах."
      ]
    },
    {
      "cell_type": "code",
      "execution_count": 61,
      "metadata": {
        "id": "xMzdfDFuKwFw"
      },
      "outputs": [
        {
          "name": "stdout",
          "output_type": "stream",
          "text": [
            "[[0.36482774 0.70772836]\n",
            " [0.67059391 0.21506024]\n",
            " [0.57750035 0.80474537]\n",
            " [0.81800291 0.1998362 ]\n",
            " [0.56540386 0.79024978]\n",
            " [0.26616771 0.07731791]]\n",
            "Меняем строку 4 и строку 3\n",
            "[[0.36482774 0.70772836]\n",
            " [0.67059391 0.21506024]\n",
            " [0.57750035 0.80474537]\n",
            " [0.56540386 0.79024978]\n",
            " [0.81800291 0.1998362 ]\n",
            " [0.26616771 0.07731791]]\n"
          ]
        },
        {
          "data": {
            "text/plain": [
              "array([[0.36482774, 0.70772836],\n",
              "       [0.67059391, 0.21506024],\n",
              "       [0.57750035, 0.80474537],\n",
              "       [0.56540386, 0.79024978],\n",
              "       [0.81800291, 0.1998362 ],\n",
              "       [0.26616771, 0.07731791]])"
            ]
          },
          "execution_count": 61,
          "metadata": {},
          "output_type": "execute_result"
        }
      ],
      "source": [
        "import numpy as np\n",
        "\n",
        "def change_str(a):\n",
        "    str1 = np.random.randint(0,a.shape[0])\n",
        "    str2 = np.random.randint(0,a.shape[0])\n",
        "    while str1 == str2:\n",
        "        str2 = np.random.randint(0,a.shape[0])\n",
        "\n",
        "    c = np.array(a[str1])\n",
        "    a[str1] = a[str2]\n",
        "    a[str2] = c.data\n",
        "    print(f\"Меняем строку {str1} и строку {str2}\")\n",
        "    print(a)\n",
        "    return a\n",
        "\n",
        "\n",
        "M = int(input('Введите кол-во строк'))\n",
        "N = int(input('Введите кол-во столбцов'))\n",
        "b = np.random.random((M,N))\n",
        "print(b)\n",
        "change_str(b)"
      ]
    },
    {
      "cell_type": "markdown",
      "metadata": {
        "id": "Kiva3bYH0Z9S"
      },
      "source": [
        "**Задача 7.**\n",
        "\n",
        "\n",
        "Написать функцию, принимающую на вход одномерный массив и возвращающую наиболее частое значение в массиве и частоту его встречи. Протестировать на нескольких заданных вами примерах."
      ]
    },
    {
      "cell_type": "code",
      "execution_count": 99,
      "metadata": {
        "id": "Fmnb7-e70YdF"
      },
      "outputs": [
        {
          "name": "stdout",
          "output_type": "stream",
          "text": [
            "[3 3 3 1 2 0 1 0 2 3]\n",
            "{'value': 3, 'count': 4}\n"
          ]
        }
      ],
      "source": [
        "import numpy as np\n",
        "\n",
        "def get_top_number(a):\n",
        "    top_number = {}\n",
        "    max_count = 0\n",
        "    max_value = 0\n",
        "    for item in a:\n",
        "        if item in top_number:\n",
        "            top_number[item] += 1\n",
        "            if top_number[item] > max_count:\n",
        "                max_count = top_number[item]\n",
        "                max_value = item\n",
        "        else:\n",
        "            top_number.update({item:1})\n",
        "    return {\"value\":max_value, \"count\":max_count}\n",
        "\n",
        "\n",
        "\n",
        "M = int(input('Введите кол-во элементов массива'))\n",
        "\n",
        "b = np.random.randint(0,5, size = (M))\n",
        "print(b)\n",
        "answer = get_top_number(b)\n",
        "if answer.get('count') == 0:\n",
        "    print('Все значения встречаются одинаковое количество раз')\n",
        "else:\n",
        "    print(answer)\n"
      ]
    },
    {
      "cell_type": "markdown",
      "metadata": {
        "id": "CA6upOsg0vuY"
      },
      "source": [
        "**Задача 8.** \n",
        "\n",
        "Написать функцию, принимающую на вход  массив 16x16 и считающую сумму по блокам 4x4. Протестировать на нескольких заданных вами примерах."
      ]
    },
    {
      "cell_type": "code",
      "execution_count": 100,
      "metadata": {
        "id": "biNnN0Gb056o"
      },
      "outputs": [
        {
          "name": "stdout",
          "output_type": "stream",
          "text": [
            "[[ 915  943  908  917]\n",
            " [ 873  919 1025  703]\n",
            " [ 694  814  994 1155]\n",
            " [ 873  878  777  809]]\n"
          ]
        }
      ],
      "source": [
        "import numpy as np\n",
        "matrix = np.random.randint(10,99,(16,16))\n",
        "res=matrix.copy()\n",
        "res.shape=(64, 4)\n",
        "res=np.sum(res, axis=1)\n",
        "res.shape=(4, 4, 4)\n",
        "res=np.sum(res, axis=1)\n",
        "print(res)"
      ]
    },
    {
      "cell_type": "markdown",
      "metadata": {
        "id": "a5jYWrLl06BY"
      },
      "source": [
        "**Задача 9.**\n",
        "\n",
        "Написать функцию, принимающую на вход матрицу и возвращающую n наибольших значений в массиве. n вводится с клавиатуры. Протестировать на нескольких заданных вами примерах."
      ]
    },
    {
      "cell_type": "code",
      "execution_count": 117,
      "metadata": {
        "id": "WflOzZRy1BRy"
      },
      "outputs": [
        {
          "name": "stdout",
          "output_type": "stream",
          "text": [
            "[[4 2 2 3 3 1]]\n",
            "Числа встречающиеся чаще всего: [3]\n"
          ]
        }
      ],
      "source": [
        "import numpy as np\n",
        "\n",
        "def get_top_number(a, n):\n",
        "    top_number = {}\n",
        "    for row_item in a:\n",
        "        for value in row_item:\n",
        "            if value in top_number:\n",
        "                top_number[value] += 1\n",
        "            else:\n",
        "                top_number.update({value:1})\n",
        "    top_number = dict(sorted(top_number.items(), key=lambda item: item[1]))\n",
        "    top_number=list(top_number)[::-1]\n",
        "    top_number=top_number[:n]\n",
        "    return top_number\n",
        "\n",
        "\n",
        "N = np.random.randint(0,10)\n",
        "M = np.random.randint(0,10)\n",
        "\n",
        "n = int(input('Введите кол-во элементов'))\n",
        "\n",
        "b = np.random.randint(0,5, size = (N+n, M+n))\n",
        "print(b)\n",
        "answer = get_top_number(b, n)\n",
        "print(\"Числа встречающиеся чаще всего:\", answer)\n"
      ]
    },
    {
      "cell_type": "markdown",
      "metadata": {
        "id": "UbB8AuQA1BY0"
      },
      "source": [
        "**Задача 10.**\n",
        "\n",
        "Написать функцию, принимающую на вход 10x3 матрица и находящую строки из неравных значений (например [2,2,3]). Протестировать на нескольких заданных вами примерах."
      ]
    },
    {
      "cell_type": "code",
      "execution_count": 122,
      "metadata": {
        "id": "YOKf8gMB1JCS"
      },
      "outputs": [
        {
          "name": "stdout",
          "output_type": "stream",
          "text": [
            "[[1 1 0]\n",
            " [0 1 0]\n",
            " [1 0 0]\n",
            " [0 1 0]\n",
            " [0 1 0]\n",
            " [0 0 0]\n",
            " [1 1 1]\n",
            " [0 1 1]\n",
            " [1 0 0]\n",
            " [1 0 0]]\n",
            "[[1 1 0]\n",
            " [0 1 0]\n",
            " [1 0 0]\n",
            " [0 1 0]\n",
            " [0 1 0]\n",
            " [0 1 1]\n",
            " [1 0 0]\n",
            " [1 0 0]]\n"
          ]
        }
      ],
      "source": [
        "import numpy as np\n",
        "\n",
        "def get_nerav(Z):\n",
        "    E = np.logical_and.reduce(Z[:,1:] == Z[:,:-1], axis=1)\n",
        "    U = Z[~E]\n",
        "    return U\n",
        "\n",
        "b = np.random.randint(0,2, size = (10,3))\n",
        "print(b)\n",
        "answer = get_nerav(b)\n",
        "print(answer)\n"
      ]
    },
    {
      "cell_type": "markdown",
      "metadata": {
        "id": "kDOcG70_1JJi"
      },
      "source": [
        "**Задача 11.**\n",
        "\n",
        "Написать функцию, принимающую на вход двумерный массив и находящую все различные строки. Протестировать на нескольких заданных вами примерах."
      ]
    },
    {
      "cell_type": "code",
      "execution_count": null,
      "metadata": {
        "id": "Z370pCG41mUU"
      },
      "outputs": [],
      "source": []
    },
    {
      "cell_type": "markdown",
      "metadata": {
        "id": "xLnW1uIL1mc_"
      },
      "source": [
        "**Задача 12.**\n",
        "\n",
        "Написать функцию, принимающую на вход два вектора одинакого размера и считающую расстояние между векторами. Протестировать на нескольких заданных вами примерах."
      ]
    },
    {
      "cell_type": "code",
      "execution_count": null,
      "metadata": {
        "id": "yYu-Qco323yW"
      },
      "outputs": [],
      "source": []
    },
    {
      "cell_type": "markdown",
      "metadata": {
        "id": "jcl3nZ-Y236p"
      },
      "source": [
        "**Задача 13.**\n",
        "\n",
        "Написать функцию, принимающую на вход два вектора одинакого размера и находящую косинус угла между векторами. Протестировать на нескольких заданных вами примерах."
      ]
    },
    {
      "cell_type": "code",
      "execution_count": null,
      "metadata": {
        "id": "GjM3s2YN3NEY"
      },
      "outputs": [],
      "source": []
    },
    {
      "cell_type": "markdown",
      "metadata": {
        "id": "NOGrxa9o3WLZ"
      },
      "source": [
        "**Задача 14.**\n",
        "\n",
        "Написать функцию, принимающую на вход вектор A содержит float числа как больше, так и меньше нуля.\n",
        "\n",
        "Функция должна округлить их до целых и результат записать в глобальную переменную Z. Округление должно быть \"от нуля\", т.е.:\n",
        "\n",
        "- положительные числа округляем всегда вверх до целого\n",
        "- отрицательные числа округляем всегда вниз до целого\n",
        "- 0 остаётся 0\n",
        "\n",
        " Протестировать на нескольких заданных вами примерах.\n"
      ]
    },
    {
      "cell_type": "code",
      "execution_count": null,
      "metadata": {
        "id": "x-RztsfF37Yt"
      },
      "outputs": [],
      "source": []
    },
    {
      "cell_type": "markdown",
      "metadata": {
        "id": "6V2Z2SNX37jT"
      },
      "source": [
        "**Задача 15.**\n",
        "\n",
        "Написать функцию, принимающую на вход 2 вектора целых чисел A и B.\n",
        "\n",
        "Функция должна находить числа, встречающиеся в обоих векторах и добавлять их по возрастанию в глобальную переменную - вектор Z.\n",
        "\n",
        "*Если пересечений нет, то вектор Z будет пустым*.\n",
        "\n",
        " Протестировать на нескольких заданных вами примерах."
      ]
    },
    {
      "cell_type": "code",
      "execution_count": null,
      "metadata": {
        "id": "ThxIR2zN4PFr"
      },
      "outputs": [],
      "source": []
    },
    {
      "cell_type": "markdown",
      "metadata": {
        "id": "GeUr4BbI433N"
      },
      "source": [
        "**Задача 16.**\n",
        "\n",
        "Написать функцию, принимающую на вход вектор и возвращающую максимальный элемент в векторе среди элементов, перед которыми стоит 0. \n",
        "\n",
        "Например для:\n",
        "\n",
        "`x = np.array([6, 2, 0, 3, 0, 0, 5, 7, 0])`\n",
        "\n",
        "Ответ:\n",
        "5"
      ]
    },
    {
      "cell_type": "code",
      "execution_count": null,
      "metadata": {
        "id": "TVHVE4RB50Ti"
      },
      "outputs": [],
      "source": []
    },
    {
      "cell_type": "markdown",
      "metadata": {
        "id": "3w6cbF5m438U"
      },
      "source": [
        "**Задача 17.**\n",
        "\n",
        "Написать функцию, принимающую на вход матрицу 5х3 и считающую длину каждого вектора в матрице (строка) и ищущую самый длинный вектор, вернуть его координаты и длину.\n",
        "\n",
        "Как выглядит матрица:\n",
        "\n",
        "```   \n",
        "     | x | y | z |\n",
        "     | 1 | 2 | 3 |\n",
        "     | 3 | 4 | 1 |\n",
        "     | ...       |\n",
        "```"
      ]
    }
  ],
  "metadata": {
    "colab": {
      "collapsed_sections": [
        "xq5kwdSxKnJI"
      ],
      "provenance": []
    },
    "kernelspec": {
      "display_name": "Python 3.10.0 64-bit",
      "language": "python",
      "name": "python3"
    },
    "language_info": {
      "codemirror_mode": {
        "name": "ipython",
        "version": 3
      },
      "file_extension": ".py",
      "mimetype": "text/x-python",
      "name": "python",
      "nbconvert_exporter": "python",
      "pygments_lexer": "ipython3",
      "version": "3.10.0"
    },
    "vscode": {
      "interpreter": {
        "hash": "afb734500600fd355917ca529030176ea0ca205570884b88f2f6f7d791fd3fbe"
      }
    }
  },
  "nbformat": 4,
  "nbformat_minor": 0
}
